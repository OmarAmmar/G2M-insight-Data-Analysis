{
 "cells": [
  {
   "cell_type": "code",
   "execution_count": 1,
   "id": "a5e80e2e",
   "metadata": {},
   "outputs": [],
   "source": [
    "# G2M Insights code for DG Virtual internship\n",
    "# Omar R.A. Ammar\n",
    "# important imports\n",
    " \n",
    "import matplotlib\n",
    "import matplotlib.pyplot as plt\n",
    "import numpy as np\n",
    "import pandas as pd\n",
    "import datetime as dt\n",
    "import calendar\n",
    "\n",
    "plt.rcParams[\"figure.figsize\"] = (15,10)"
   ]
  },
  {
   "cell_type": "code",
   "execution_count": 2,
   "id": "fde508c7",
   "metadata": {},
   "outputs": [],
   "source": [
    "def readFiles(folder_name):\n",
    "    \n",
    "    CabData = pd.read_csv(folder_name + '/Cab_Data.csv')\n",
    "    CityData = pd.read_csv(folder_name + '/City.csv')\n",
    "    CustomerData = pd.read_csv(folder_name + '/Customer_ID.csv')\n",
    "    TransactionData = pd.read_csv(folder_name + '/Transaction_ID.csv')\n",
    "    \n",
    "    return CabData, CityData , CustomerData, TransactionData\n",
    "    "
   ]
  },
  {
   "cell_type": "code",
   "execution_count": 3,
   "id": "b084dcef",
   "metadata": {},
   "outputs": [],
   "source": [
    "def cleanData(Dataset):\n",
    "    Dataset.dropna(inplace = True) # remove all the null data\n",
    "    Dataset.drop_duplicates(inplace = True) # remove all the duplicated data\n",
    "    "
   ]
  },
  {
   "cell_type": "code",
   "execution_count": 4,
   "id": "5709b847",
   "metadata": {},
   "outputs": [],
   "source": [
    "\n",
    "# get all the data in csv files\n",
    "CabData , CityData, CustomerData , TransactionData = readFiles('/Users/omarammar/PycharmProjects/G2M-insight-Data-Analysis')\n",
    "\n",
    "# clean the Data\n",
    "cleanData(CabData)\n",
    "cleanData(CityData)\n",
    "cleanData(CustomerData)\n",
    "cleanData(TransactionData)\n",
    "\n"
   ]
  },
  {
   "cell_type": "markdown",
   "id": "a77f508b",
   "metadata": {},
   "source": [
    "# show some of the data as example to it being loaded correctly\n"
   ]
  },
  {
   "cell_type": "code",
   "execution_count": 5,
   "id": "4e065523",
   "metadata": {},
   "outputs": [
    {
     "name": "stdout",
     "output_type": "stream",
     "text": [
      "   Transaction ID  Date of Travel   Company        City  KM Travelled  \\\n",
      "0        10000011           42377  Pink Cab  ATLANTA GA         30.45   \n",
      "1        10000012           42375  Pink Cab  ATLANTA GA         28.62   \n",
      "2        10000013           42371  Pink Cab  ATLANTA GA          9.04   \n",
      "3        10000014           42376  Pink Cab  ATLANTA GA         33.17   \n",
      "4        10000015           42372  Pink Cab  ATLANTA GA          8.73   \n",
      "5        10000016           42376  Pink Cab  ATLANTA GA          6.06   \n",
      "6        10000017           42372  Pink Cab   AUSTIN TX         44.00   \n",
      "7        10000018           42376  Pink Cab   AUSTIN TX         35.65   \n",
      "8        10000019           42381  Pink Cab   BOSTON MA         14.40   \n",
      "9        10000020           42375  Pink Cab   BOSTON MA         10.89   \n",
      "\n",
      "   Price Charged  Cost of Trip  \n",
      "0         370.95       313.635  \n",
      "1         358.52       334.854  \n",
      "2         125.20        97.632  \n",
      "3         377.40       351.602  \n",
      "4         114.62        97.776  \n",
      "5          72.43        63.024  \n",
      "6         576.15       475.200  \n",
      "7         466.10       377.890  \n",
      "8         191.61       146.880  \n",
      "9         156.98       113.256  \n"
     ]
    }
   ],
   "source": [
    "print(CabData.head(10))\n"
   ]
  },
  {
   "cell_type": "code",
   "execution_count": 6,
   "id": "d91995ba",
   "metadata": {},
   "outputs": [
    {
     "name": "stdout",
     "output_type": "stream",
     "text": [
      "Number of rows in the Cab dataset : 359392\n",
      "Number of rows in the City dataset : 20\n",
      "Number of rows in the Customer dataset : 49171\n",
      "Number of rows in the Transaction dataset : 440098\n",
      "Number of rows in the whole dataset : 848681\n",
      "--------------------------------------------------------------------------------\n",
      "Number of coloumns in the Cab dataset: 7\n",
      "Number of coloumns in the Cab dataset: 3\n",
      "Number of coloumns in the Cab dataset: 4\n",
      "Number of coloumns in the Cab dataset: 3\n",
      "Number of coloumns in the whole dataset : 17\n"
     ]
    }
   ],
   "source": [
    "rows_count = len(CabData.index) + len(CityData.index) + len(CustomerData) + len(TransactionData)\n",
    "print('Number of rows in the Cab dataset : ' + str(len(CabData.index)))\n",
    "print('Number of rows in the City dataset : ' + str(len(CityData.index)))\n",
    "print('Number of rows in the Customer dataset : ' + str(len(CustomerData)))\n",
    "print('Number of rows in the Transaction dataset : ' + str(len(TransactionData)))\n",
    "print('Number of rows in the whole dataset : ' + str(rows_count))\n",
    "\n",
    "print('-'*80)\n",
    "coloumn_count = CabData.shape[1] + CityData.shape[1] + CustomerData.shape[1] + TransactionData.shape[1]\n",
    "\n",
    "print('Number of coloumns in the Cab dataset: ' + str(CabData.shape[1]))\n",
    "print('Number of coloumns in the Cab dataset: ' + str(CityData.shape[1]))\n",
    "print('Number of coloumns in the Cab dataset: ' + str(CustomerData.shape[1]))\n",
    "print('Number of coloumns in the Cab dataset: ' + str(TransactionData.shape[1]))\n",
    "print('Number of coloumns in the whole dataset : ' + str(coloumn_count))\n",
    "\n"
   ]
  },
  {
   "cell_type": "code",
   "execution_count": 7,
   "id": "858c4e81-af51-4477-816f-d2b90e3d2a86",
   "metadata": {},
   "outputs": [],
   "source": [
    "# Changing all the time stamps to date format\n",
    "def dateFixer(timestamp):\n",
    "    orgDate = dt.datetime(1900, 1, 1)\n",
    "    return orgDate + dt.timedelta(days = timestamp)\n",
    "    \n",
    "    \n",
    "CabData['Date of Travel'] = CabData.apply(lambda row : dateFixer(row['Date of Travel']),axis = 1)"
   ]
  },
  {
   "cell_type": "code",
   "execution_count": 8,
   "id": "bcfe6391",
   "metadata": {},
   "outputs": [],
   "source": [
    "# '''\n",
    "# The first Hypothesis:\n",
    "#     Is there any seasonality in number of customers(number of rides) using the cab service? .\n",
    "#     Steps: \n",
    "#         First we have to seperate the Cab dataset into the months , and then seperate it again according to the 2 \n",
    "#         Cab companies to compare.\n",
    "# '''"
   ]
  },
  {
   "cell_type": "code",
   "execution_count": 9,
   "id": "63e56c7e",
   "metadata": {},
   "outputs": [
    {
     "name": "stdout",
     "output_type": "stream",
     "text": [
      "   Transaction ID Date of Travel   Company        City  KM Travelled  \\\n",
      "0        10000011     2016-01-10  Pink Cab  ATLANTA GA         30.45   \n",
      "1        10000012     2016-01-08  Pink Cab  ATLANTA GA         28.62   \n",
      "2        10000013     2016-01-04  Pink Cab  ATLANTA GA          9.04   \n",
      "3        10000014     2016-01-09  Pink Cab  ATLANTA GA         33.17   \n",
      "4        10000015     2016-01-05  Pink Cab  ATLANTA GA          8.73   \n",
      "5        10000016     2016-01-09  Pink Cab  ATLANTA GA          6.06   \n",
      "6        10000017     2016-01-05  Pink Cab   AUSTIN TX         44.00   \n",
      "7        10000018     2016-01-09  Pink Cab   AUSTIN TX         35.65   \n",
      "8        10000019     2016-01-14  Pink Cab   BOSTON MA         14.40   \n",
      "9        10000020     2016-01-08  Pink Cab   BOSTON MA         10.89   \n",
      "\n",
      "   Price Charged  Cost of Trip  \n",
      "0         370.95       313.635  \n",
      "1         358.52       334.854  \n",
      "2         125.20        97.632  \n",
      "3         377.40       351.602  \n",
      "4         114.62        97.776  \n",
      "5          72.43        63.024  \n",
      "6         576.15       475.200  \n",
      "7         466.10       377.890  \n",
      "8         191.61       146.880  \n",
      "9         156.98       113.256  \n"
     ]
    }
   ],
   "source": [
    "# prepare the data\n",
    "months = ['Dummy' ,'January', 'Feburary' , 'March' , 'April' , 'May', 'June' , 'July' , 'August', 'September' , 'November' , 'December']\n",
    "season1 = {}\n",
    "season2 = {}\n",
    "season3 = {}\n",
    "\n",
    "for month in months:\n",
    "    season1[month] = 0\n",
    "    season2[month] = 0\n",
    "    season3[month] = 0\n",
    "    \n",
    "print(CabData.head(10))"
   ]
  },
  {
   "cell_type": "code",
   "execution_count": 10,
   "id": "a483c23e-6d23-447d-8061-1e3cb4170887",
   "metadata": {},
   "outputs": [
    {
     "data": {
      "text/plain": [
       "0"
      ]
     },
     "execution_count": 10,
     "metadata": {},
     "output_type": "execute_result"
    }
   ],
   "source": [
    "for i in range(1,len(months)):\n",
    "    season1[months[i]] = CabData[(pd.to_datetime(CabData['Date of Travel']).dt.month == i) & (pd.to_datetime(CabData['Date of Travel']).dt.year == 2016 )]\n",
    "    season1[months[i]] = season1[months[i]]['Date of Travel'].count()\n",
    "    season2[months[i]] = CabData[(pd.to_datetime(CabData['Date of Travel']).dt.month == i) & (pd.to_datetime(CabData['Date of Travel']).dt.year == 2017)]\n",
    "    season2[months[i]] = season2[months[i]]['Date of Travel'].count()\n",
    "    season3[months[i]] = CabData[(pd.to_datetime(CabData['Date of Travel']).dt.month == i) & (pd.to_datetime(CabData['Date of Travel']).dt.year == 2018)]\n",
    "    season3[months[i]] = season3[months[i]]['Date of Travel'].count()\n",
    "    \n",
    "season1.pop('Dummy')\n",
    "season2.pop('Dummy')\n",
    "season3.pop('Dummy')\n"
   ]
  },
  {
   "cell_type": "code",
   "execution_count": 11,
   "id": "1656f642-9606-4151-876f-6da5d0c9dccd",
   "metadata": {},
   "outputs": [
    {
     "name": "stdout",
     "output_type": "stream",
     "text": [
      "{'January': 4017, 'Feburary': 5881, 'March': 6594, 'April': 6230, 'May': 7863, 'June': 7325, 'July': 8247, 'August': 9844, 'September': 10821, 'November': 12644, 'December': 13008}\n",
      "{'January': 9050, 'Feburary': 6499, 'March': 7220, 'April': 7981, 'May': 8606, 'June': 8108, 'July': 9834, 'August': 11576, 'September': 12655, 'November': 15358, 'December': 14972}\n",
      "{'January': 11173, 'Feburary': 6012, 'March': 6886, 'April': 7610, 'May': 7836, 'June': 7849, 'July': 9717, 'August': 10269, 'September': 12356, 'November': 13717, 'December': 14385}\n"
     ]
    }
   ],
   "source": [
    "print(season1)\n",
    "print(season2)\n",
    "print(season3)"
   ]
  },
  {
   "cell_type": "code",
   "execution_count": 12,
   "id": "bba8aac5-353c-43ee-8398-a25e7bd743e8",
   "metadata": {},
   "outputs": [
    {
     "data": {
      "image/png": "[encoded data removed]",
      "text/plain": [
       "<Figure size 432x288 with 1 Axes>"
      ]
     },
     "metadata": {
      "needs_background": "light"
     },
     "output_type": "display_data"
    }
   ],
   "source": [
    "# plotting the bar graph\n",
    "names = list(season1.keys())\n",
    "values = list(season1.values())\n",
    "\n",
    "X_axis = np.arange(len(season1))\n",
    "\n",
    "plt.plot(names,values,color='red')\n",
    "plt.title('Seasonality of number of customers in 2016')\n",
    "\n",
    "\n",
    "plt.xticks(rotation = 'vertical')\n",
    "plt.show()"
   ]
  },
  {
   "cell_type": "code",
   "execution_count": 13,
   "id": "261d9f84-e520-44d6-930c-e9a109f29346",
   "metadata": {},
   "outputs": [
    {
     "data": {
      "image/png": "[encoded data removed]",
      "text/plain": [
       "<Figure size 432x288 with 1 Axes>"
      ]
     },
     "metadata": {
      "needs_background": "light"
     },
     "output_type": "display_data"
    }
   ],
   "source": [
    "# plotting the bar graph\n",
    "names = list(season2.keys())\n",
    "values = list(season2.values())\n",
    "\n",
    "X_axis = np.arange(len(season1))\n",
    "\n",
    "plt.plot(names,values,color='blue')\n",
    "plt.title('Seasonality of number of customers in 2017')\n",
    "\n",
    "\n",
    "\n",
    "plt.xticks(rotation = 'vertical')\n",
    "plt.show()"
   ]
  },
  {
   "cell_type": "code",
   "execution_count": 14,
   "id": "6491753f-eb9e-4150-92a2-e9decb27ecfe",
   "metadata": {},
   "outputs": [
    {
     "data": {
      "image/png": "[encoded data removed]",
      "text/plain": [
       "<Figure size 432x288 with 1 Axes>"
      ]
     },
     "metadata": {
      "needs_background": "light"
     },
     "output_type": "display_data"
    }
   ],
   "source": [
    "# plotting the bar graph\n",
    "names = list(season3.keys())\n",
    "values = list(season3.values())\n",
    "\n",
    "X_axis = np.arange(len(season1))\n",
    "\n",
    "plt.plot(names,values,color='black')\n",
    "plt.title('Seasonality of number of customers in 2018')\n",
    "\n",
    "plt.xticks(rotation = 'vertical')\n",
    "plt.show()"
   ]
  },
  {
   "cell_type": "code",
   "execution_count": 15,
   "id": "ffe88a64-7c6a-4ddb-9b53-b3aa525d50bc",
   "metadata": {},
   "outputs": [
    {
     "data": {
      "text/plain": [
       "'\\n    From analyzing the seasonality of customers: towards 2017 and 2018 there was a sharp increase in customers requesting taxis \\n    in januaray .overall the demand increases towards winter months and decreases towards spring months. the cycle repeats\\n    every year.\\n'"
      ]
     },
     "execution_count": 15,
     "metadata": {},
     "output_type": "execute_result"
    }
   ],
   "source": [
    "'''\n",
    "    From analyzing the seasonality of customers: towards 2017 and 2018 there was a sharp increase in customers requesting taxis \n",
    "    in januaray .overall the demand increases towards winter months and decreases towards spring months. the cycle repeats\n",
    "    every year.\n",
    "'''"
   ]
  },
  {
   "cell_type": "code",
   "execution_count": 16,
   "id": "88495269",
   "metadata": {},
   "outputs": [],
   "source": [
    "# '''\n",
    "# The Second Hypothesis: \n",
    "#     Day wise analysis\n",
    "    \n",
    "# '''"
   ]
  },
  {
   "cell_type": "code",
   "execution_count": 17,
   "id": "d39d8c11",
   "metadata": {},
   "outputs": [],
   "source": [
    "def dayer(date):\n",
    "    return calendar.day_name[date.weekday()]"
   ]
  },
  {
   "cell_type": "code",
   "execution_count": 18,
   "id": "9b28a2f9-d1ef-40d1-a45a-abb1defabcff",
   "metadata": {},
   "outputs": [],
   "source": [
    "Days = [\"Sunday\", \"Monday\", \"Tuesday\", \"Wednesday\", \"Thursday\", \"Friday\", \"Saturday\"]\n",
    "\n",
    "pinkTrends = {}\n",
    "YellowTrends = {}\n",
    "\n",
    "for day in Days:\n",
    "    pinkTrends[day] = 0\n",
    "    YellowTrends[day] = 0"
   ]
  },
  {
   "cell_type": "code",
   "execution_count": 19,
   "id": "f9479453-bb40-4caa-b829-85f4eb228343",
   "metadata": {},
   "outputs": [],
   "source": [
    "# extract the weekdays and add it to the dataframe\n",
    "CabData['Day'] = CabData.apply(lambda row : dayer(row['Date of Travel']),axis = 1)\n",
    "\n",
    "YellowCabRides = CabData[CabData['Company'] == 'Yellow Cab']\n",
    "PinkCabRides = CabData[CabData['Company'] == 'Pink Cab']"
   ]
  },
  {
   "cell_type": "code",
   "execution_count": 20,
   "id": "c4c1e38b-e271-4c90-98e5-881a13d52d5d",
   "metadata": {},
   "outputs": [],
   "source": [
    "\n",
    "for day in Days:\n",
    "    temp = YellowCabRides[YellowCabRides['Day'] == day]\n",
    "    YellowTrends[day] = temp['Day'].count()\n",
    "\n",
    "    temp = PinkCabRides[PinkCabRides['Day'] == day]\n",
    "    pinkTrends[day] = temp['Day'].count()\n",
    "\n"
   ]
  },
  {
   "cell_type": "code",
   "execution_count": 21,
   "id": "0b62cc46-fd8d-4ef2-b824-60d63670c224",
   "metadata": {},
   "outputs": [
    {
     "data": {
      "image/png": "[encoded data removed]",
      "text/plain": [
       "<Figure size 432x288 with 1 Axes>"
      ]
     },
     "metadata": {
      "needs_background": "light"
     },
     "output_type": "display_data"
    }
   ],
   "source": [
    "# plotting the bar graph\n",
    "names = list(Days)\n",
    "Cvalues = list(YellowTrends.values())\n",
    "Pvalues = list(pinkTrends.values())\n",
    "\n",
    "X_axis = np.arange(len(Cvalues))\n",
    "\n",
    "plt.bar(X_axis-0.2, Cvalues,0.4, tick_label=names,color='yellow')\n",
    "plt.bar(X_axis+0.2, Pvalues,0.4, tick_label=names,color='pink')\n",
    "\n",
    "\n",
    "plt.xticks(rotation = 'vertical')\n",
    "plt.show()"
   ]
  },
  {
   "cell_type": "code",
   "execution_count": 22,
   "id": "7117eb05-71c0-4049-83d1-db77d7c0b490",
   "metadata": {},
   "outputs": [
    {
     "data": {
      "text/plain": [
       "'\\n    We can clearly see that the demand for taxis increases in the first days of the week and is less in other days. overall \\n    the yellow cab provided way more trips than the pink cab on daily basis.\\n'"
      ]
     },
     "execution_count": 22,
     "metadata": {},
     "output_type": "execute_result"
    }
   ],
   "source": [
    "'''\n",
    "    We can clearly see that the demand for taxis increases in the first days of the week and is less in other days. overall \n",
    "    the yellow cab provided way more trips than the pink cab on daily basis.\n",
    "'''"
   ]
  },
  {
   "cell_type": "code",
   "execution_count": 23,
   "id": "9f60a265",
   "metadata": {},
   "outputs": [],
   "source": [
    "# '''\n",
    "#     The Third Hypothesis:\n",
    "#     Which company provides a wider range of service? \n",
    "    \n",
    "#     Steps:\n",
    "#          First seperate the datasets according to the cities and then count how many times did a certain company \n",
    "#          provide service to a certain city.\n",
    "# '''"
   ]
  },
  {
   "cell_type": "code",
   "execution_count": 24,
   "id": "bed2584f",
   "metadata": {},
   "outputs": [],
   "source": [
    "# These two dictionaries will keep the data of each city and how many rides did it provide \n",
    "PinkCab = {}\n",
    "YellowCab = {}\n",
    "\n",
    "YellowCabRides = CabData[CabData['Company'] == 'Yellow Cab']\n",
    "PinkCabRides = CabData[CabData['Company'] == 'Pink Cab']\n",
    "\n",
    "Cities = np.unique(YellowCabRides['City'].values)\n",
    "\n",
    "for city in Cities:\n",
    "    PinkCab[city] = 0\n",
    "    YellowCab[city]=0\n",
    "    \n"
   ]
  },
  {
   "cell_type": "code",
   "execution_count": 25,
   "id": "325497e7",
   "metadata": {},
   "outputs": [],
   "source": [
    "# instead of looping we are going to use index\n",
    "for city in Cities:\n",
    "    YellowCab[city] = len(YellowCabRides[YellowCabRides['City'] == city].index)\n",
    "    PinkCab[city] = len(PinkCabRides[PinkCabRides['City'] == city].index)"
   ]
  },
  {
   "cell_type": "code",
   "execution_count": 26,
   "id": "0e1cba79-4fd3-4cdf-8bce-b124f684b554",
   "metadata": {},
   "outputs": [
    {
     "name": "stdout",
     "output_type": "stream",
     "text": [
      "{'ATLANTA GA': 5795, 'AUSTIN TX': 3028, 'BOSTON MA': 24506, 'CHICAGO IL': 47264, 'DALLAS TX': 5637, 'DENVER CO': 2431, 'LOS ANGELES CA': 28168, 'MIAMI FL': 4452, 'NASHVILLE TN': 1169, 'NEW YORK NY': 85918, 'ORANGE COUNTY': 2469, 'PHOENIX AZ': 1200, 'PITTSBURGH PA': 631, 'SACRAMENTO CA': 1033, 'SAN DIEGO CA': 9816, 'SEATTLE WA': 5265, 'SILICON VALLEY': 4722, 'TUCSON AZ': 1132, 'WASHINGTON DC': 40045}\n"
     ]
    }
   ],
   "source": [
    "print(YellowCab)"
   ]
  },
  {
   "cell_type": "code",
   "execution_count": 27,
   "id": "949887d1",
   "metadata": {},
   "outputs": [
    {
     "data": {
      "image/png": "[encoded data removed]",
      "text/plain": [
       "<Figure size 432x288 with 1 Axes>"
      ]
     },
     "metadata": {
      "needs_background": "light"
     },
     "output_type": "display_data"
    }
   ],
   "source": [
    "# plotting the bar graph\n",
    "names = list(YellowCab.keys())\n",
    "Cvalues = list(YellowCab.values())\n",
    "Pvalues = list(PinkCab.values())\n",
    "\n",
    "X_axis = np.arange(len(YellowCab))\n",
    "\n",
    "plt.bar(X_axis-0.2, Cvalues,0.4, tick_label=names,color='yellow')\n",
    "plt.bar(X_axis+0.2, Pvalues,0.4, tick_label=names,color='pink')\n",
    "\n",
    "\n",
    "plt.xticks(rotation = 'vertical')\n",
    "plt.show()"
   ]
  },
  {
   "cell_type": "code",
   "execution_count": 28,
   "id": "707724e2-aa35-4880-9e45-b368b1a6d0da",
   "metadata": {},
   "outputs": [
    {
     "data": {
      "text/plain": [
       "'\\nit is clear fromt the difference that the yellow cab provides more service in busy cities like washington and new york, the \\nyellow cab was more requested in every city other than san diego CA, we can deduct that the yellow cab provides more services\\nand coverage in the cities\\n'"
      ]
     },
     "execution_count": 28,
     "metadata": {},
     "output_type": "execute_result"
    }
   ],
   "source": [
    "'''\n",
    "it is clear fromt the difference that the yellow cab provides more service in busy cities like washington and new york, the \n",
    "yellow cab was more requested in every city other than san diego CA, we can deduct that the yellow cab provides more services\n",
    "and coverage in the cities\n",
    "'''"
   ]
  },
  {
   "cell_type": "code",
   "execution_count": 29,
   "id": "4179f205",
   "metadata": {},
   "outputs": [],
   "source": [
    "# '''\n",
    "#     The Fourth Hypothesis:\n",
    "#     Is there a seasonality in the profit?\n",
    "    \n",
    "#     \n",
    "# '''"
   ]
  },
  {
   "cell_type": "code",
   "execution_count": 30,
   "id": "1f604c13-2ae7-45ee-ab3a-c075f36cf4fb",
   "metadata": {},
   "outputs": [],
   "source": [
    "# prepare the data\n",
    "season = {'Pink Cab' : 0, 'Yellow Cab' : 0 }\n",
    "YellowCabRides = CabData[CabData['Company'] == 'Yellow Cab']\n",
    "PinkCabRides = CabData[CabData['Company'] == 'Pink Cab']\n",
    "\n",
    "\n",
    "season['Pink Cab'] = PinkCabRides['Price Charged'].sum() - PinkCabRides['Cost of Trip'].sum()\n",
    "season['Yellow Cab'] = YellowCabRides['Price Charged'].sum() - YellowCabRides['Cost of Trip'].sum()\n",
    "\n"
   ]
  },
  {
   "cell_type": "code",
   "execution_count": 31,
   "id": "ab2829aa",
   "metadata": {},
   "outputs": [],
   "source": [
    "months = ['Dummy' ,'January', 'Feburary' , 'March' , 'April' , 'May', 'June' , 'July' , 'August', 'September' , 'November' , 'December']\n",
    "season1 = {}\n",
    "season2 = {}\n",
    "season3 = {}\n",
    "\n",
    "for month in months:\n",
    "    season1[month] = 0\n",
    "    season2[month] = 0\n",
    "    season3[month] = 0"
   ]
  },
  {
   "cell_type": "code",
   "execution_count": 32,
   "id": "54ffe3d9-2f00-4840-864c-dbb9dbfb2008",
   "metadata": {},
   "outputs": [
    {
     "data": {
      "text/plain": [
       "0"
      ]
     },
     "execution_count": 32,
     "metadata": {},
     "output_type": "execute_result"
    }
   ],
   "source": [
    "for i in range(1,len(months)):\n",
    "    season1[months[i]] = CabData[(pd.to_datetime(CabData['Date of Travel']).dt.month == i) & (pd.to_datetime(CabData['Date of Travel']).dt.year == 2016 )]\n",
    "    season1[months[i]] = season1[months[i]]['Price Charged'].sum() - season1[months[i]]['Cost of Trip'].sum()\n",
    "    \n",
    "    season2[months[i]] = CabData[(pd.to_datetime(CabData['Date of Travel']).dt.month == i) & (pd.to_datetime(CabData['Date of Travel']).dt.year == 2017)]\n",
    "    season2[months[i]] = season2[months[i]]['Price Charged'].sum() - season2[months[i]]['Cost of Trip'].sum()\n",
    "    \n",
    "    season3[months[i]] = CabData[(pd.to_datetime(CabData['Date of Travel']).dt.month == i) & (pd.to_datetime(CabData['Date of Travel']).dt.year == 2018)]\n",
    "    season3[months[i]] = season3[months[i]]['Price Charged'].sum() - season3[months[i]]['Cost of Trip'].sum()\n",
    "\n",
    "season1.pop('Dummy')\n",
    "season2.pop('Dummy')\n",
    "season3.pop('Dummy')"
   ]
  },
  {
   "cell_type": "code",
   "execution_count": 33,
   "id": "62c48b86-0e55-4629-b8a9-e66e1c804266",
   "metadata": {},
   "outputs": [
    {
     "data": {
      "image/png": "[encoded data removed]",
      "text/plain": [
       "<Figure size 432x288 with 1 Axes>"
      ]
     },
     "metadata": {
      "needs_background": "light"
     },
     "output_type": "display_data"
    }
   ],
   "source": [
    "# plotting the bar graph\n",
    "names = list(season1.keys())\n",
    "values = list(season1.values())\n",
    "\n",
    "X_axis = np.arange(len(season1))\n",
    "\n",
    "plt.plot(names,values,color='red')\n",
    "plt.title('Seasonality of number of profit in 2016')\n",
    "\n",
    "\n",
    "plt.xticks(rotation = 'vertical')\n",
    "plt.show()"
   ]
  },
  {
   "cell_type": "code",
   "execution_count": 34,
   "id": "bc6b2700-5e5f-4674-bd55-94b947992506",
   "metadata": {},
   "outputs": [
    {
     "data": {
      "image/png": "[encoded data removed]",
      "text/plain": [
       "<Figure size 432x288 with 1 Axes>"
      ]
     },
     "metadata": {
      "needs_background": "light"
     },
     "output_type": "display_data"
    }
   ],
   "source": [
    "# plotting the bar graph\n",
    "names = list(season2.keys())\n",
    "values = list(season2.values())\n",
    "\n",
    "X_axis = np.arange(len(season1))\n",
    "\n",
    "plt.plot(names,values,color='blue')\n",
    "plt.title('Seasonality of number of profit in 2017')\n",
    "\n",
    "\n",
    "\n",
    "plt.xticks(rotation = 'vertical')\n",
    "plt.show()"
   ]
  },
  {
   "cell_type": "code",
   "execution_count": 35,
   "id": "8c88ffc1-8b76-47df-81c8-f117d0130af1",
   "metadata": {},
   "outputs": [
    {
     "data": {
      "image/png": "[encoded data removed]",
      "text/plain": [
       "<Figure size 432x288 with 1 Axes>"
      ]
     },
     "metadata": {
      "needs_background": "light"
     },
     "output_type": "display_data"
    }
   ],
   "source": [
    "# plotting the bar graph\n",
    "names = list(season3.keys())\n",
    "values = list(season3.values())\n",
    "\n",
    "X_axis = np.arange(len(season1))\n",
    "\n",
    "plt.plot(names,values,color='black')\n",
    "plt.title('Seasonality of number of profit in 2018')\n",
    "\n",
    "plt.xticks(rotation = 'vertical')\n",
    "plt.show()"
   ]
  },
  {
   "cell_type": "code",
   "execution_count": 36,
   "id": "3ca29316-efb6-4ba2-a7d1-0c1152ece71f",
   "metadata": {},
   "outputs": [
    {
     "data": {
      "text/plain": [
       "'\\n    Relating to the seasonality in the number of customers we can see that the profit increases in the start and the end of the \\n    year and it takes a similar shape to a W with the increase in may.\\n'"
      ]
     },
     "execution_count": 36,
     "metadata": {},
     "output_type": "execute_result"
    }
   ],
   "source": [
    "'''\n",
    "    Relating to the seasonality in the number of customers we can see that the profit increases in the start and the end of the \n",
    "    year and it takes a similar shape to a W with the increase in may.\n",
    "'''"
   ]
  },
  {
   "cell_type": "code",
   "execution_count": 37,
   "id": "a49a4cbb",
   "metadata": {},
   "outputs": [],
   "source": [
    "# '''\n",
    "#     The Fifth Hypothesis:\n",
    "#     Customer analysis on ride distance\n",
    "    \n",
    "#     \n",
    "# '''"
   ]
  },
  {
   "cell_type": "code",
   "execution_count": 38,
   "id": "44e9f697",
   "metadata": {},
   "outputs": [],
   "source": [
    "#round up to multiple of 5 from both end ( used for approximating the distance)\n",
    "def rof(x):\n",
    "    if x%5==4:\n",
    "        x+=1\n",
    "    elif x%5==1:\n",
    "        x-=1\n",
    "    elif x%5==2:\n",
    "        x-=2\n",
    "    elif x%5==3:\n",
    "        x+=2\n",
    "    return int(x)"
   ]
  },
  {
   "cell_type": "code",
   "execution_count": 39,
   "id": "6fa6708e",
   "metadata": {},
   "outputs": [],
   "source": [
    "PinkDistances = {}\n",
    "YellowDistances = {}\n",
    "\n",
    "PinkEarnings = {}\n",
    "YellowEarnings = {}\n",
    "\n",
    "max_distance = rof(CabData['KM Travelled'].max())\n",
    "\n",
    "for i in range(0,max_distance+5,5):\n",
    "    PinkDistances[i] =  0\n",
    "    YellowDistances[i] =  0\n",
    "    PinkEarnings[i] = 0\n",
    "    YellowEarnings[i] = 0\n"
   ]
  },
  {
   "cell_type": "code",
   "execution_count": 40,
   "id": "265a82ee",
   "metadata": {},
   "outputs": [
    {
     "name": "stdout",
     "output_type": "stream",
     "text": [
      "Total number of trips by Yellow Cab: 274681\n",
      "Total number of trips by Pink Cab: 84711\n"
     ]
    }
   ],
   "source": [
    "print('Total number of trips by Yellow Cab: '+ str(len(YellowCabRides.index)))\n",
    "print('Total number of trips by Pink Cab: '+ str(len(PinkCabRides.index)))\n",
    "\n"
   ]
  },
  {
   "cell_type": "code",
   "execution_count": 41,
   "id": "0fb62415",
   "metadata": {},
   "outputs": [],
   "source": [
    "TempCabData = CabData"
   ]
  },
  {
   "cell_type": "code",
   "execution_count": 42,
   "id": "0d681e1c-9ef3-4502-8a6a-b71a9413e8ed",
   "metadata": {},
   "outputs": [
    {
     "name": "stdout",
     "output_type": "stream",
     "text": [
      "   Transaction ID Date of Travel   Company        City  KM Travelled  \\\n",
      "0        10000011     2016-01-10  Pink Cab  ATLANTA GA            30   \n",
      "1        10000012     2016-01-08  Pink Cab  ATLANTA GA            28   \n",
      "2        10000013     2016-01-04  Pink Cab  ATLANTA GA             9   \n",
      "3        10000014     2016-01-09  Pink Cab  ATLANTA GA            33   \n",
      "4        10000015     2016-01-05  Pink Cab  ATLANTA GA             8   \n",
      "5        10000016     2016-01-09  Pink Cab  ATLANTA GA             6   \n",
      "6        10000017     2016-01-05  Pink Cab   AUSTIN TX            45   \n",
      "7        10000018     2016-01-09  Pink Cab   AUSTIN TX            35   \n",
      "8        10000019     2016-01-14  Pink Cab   BOSTON MA            14   \n",
      "9        10000020     2016-01-08  Pink Cab   BOSTON MA            10   \n",
      "\n",
      "   Price Charged  Cost of Trip       Day  \n",
      "0         370.95       313.635    Sunday  \n",
      "1         358.52       334.854    Friday  \n",
      "2         125.20        97.632    Monday  \n",
      "3         377.40       351.602  Saturday  \n",
      "4         114.62        97.776   Tuesday  \n",
      "5          72.43        63.024  Saturday  \n",
      "6         576.15       475.200   Tuesday  \n",
      "7         466.10       377.890  Saturday  \n",
      "8         191.61       146.880  Thursday  \n",
      "9         156.98       113.256    Friday  \n"
     ]
    }
   ],
   "source": [
    "CabData['KM Travelled'] = CabData.apply(lambda row : rof(row['KM Travelled']),axis = 1)\n",
    "print(CabData.head(10))\n",
    "\n",
    "YellowCabRides = CabData[CabData['Company'] == 'Yellow Cab']\n",
    "PinkCabRides = CabData[CabData['Company'] == 'Pink Cab']\n",
    "\n",
    "CabData = TempCabData"
   ]
  },
  {
   "cell_type": "code",
   "execution_count": 43,
   "id": "2d2e479c",
   "metadata": {},
   "outputs": [
    {
     "name": "stdout",
     "output_type": "stream",
     "text": [
      "{0: 280, 5: 8137, 10: 8182, 15: 7593, 20: 8322, 25: 8884, 30: 7647, 35: 8101, 40: 6337, 45: 2102, 50: 281}\n",
      "{0: 82, 5: 2510, 10: 2544, 15: 2348, 20: 2662, 25: 2822, 30: 2435, 35: 2492, 40: 1883, 45: 676, 50: 85}\n"
     ]
    }
   ],
   "source": [
    "# calculate the total profit for every KM travelled\n",
    "for i in range(0,max_distance+5,5):\n",
    "    Pink = PinkCabRides[PinkCabRides['KM Travelled'] == i]\n",
    "    Yellow = YellowCabRides[YellowCabRides['KM Travelled'] == i]\n",
    "    PinkDistances[i] =  len(Pink.index)\n",
    "    YellowDistances[i] =  len(Yellow.index)\n",
    "    PinkEarnings[i] += Pink['Price Charged'].sum() - Pink['Cost of Trip'].sum()\n",
    "    YellowEarnings[i] += Yellow['Price Charged'].sum() - Yellow['Cost of Trip'].sum()\n",
    "\n",
    "    \n",
    "# xDistances[i][0] = The number of trips taken , xDistancecs[i][1]\n",
    "print(YellowDistances)\n",
    "print(PinkDistances)\n"
   ]
  },
  {
   "cell_type": "code",
   "execution_count": 44,
   "id": "a4edf168-4ce3-4642-8503-99cc864da3b2",
   "metadata": {},
   "outputs": [
    {
     "data": {
      "image/png": "[encoded data removed]",
      "text/plain": [
       "<Figure size 432x288 with 1 Axes>"
      ]
     },
     "metadata": {
      "needs_background": "light"
     },
     "output_type": "display_data"
    }
   ],
   "source": [
    "# plotting the bar graph\n",
    "names = list(YellowDistances.keys())\n",
    "Cvalues = list(YellowDistances.values())\n",
    "Pvalues = list(PinkDistances.values())\n",
    "\n",
    "X_axis = np.arange(len(YellowDistances))\n",
    "\n",
    "plt.bar(X_axis-0.2, Cvalues,0.4, tick_label=names,color = 'yellow')\n",
    "plt.bar(X_axis+0.2, Pvalues,0.4, tick_label=names, color = 'pink')\n",
    "\n",
    "plt.title(\"total number of trips taken by a certain cab company for a specific distance\")\n",
    "plt.show()"
   ]
  },
  {
   "cell_type": "code",
   "execution_count": 45,
   "id": "86f24515-e1d9-4fcb-90dc-40d58356ad05",
   "metadata": {},
   "outputs": [
    {
     "data": {
      "text/plain": [
       "'\\nFrom the graph we can deduce that the yellow cab is more preferred over all the trips distances , providing wider range of service \\nexplains why for trips 50+ the yellow has a significant difference.\\n'"
      ]
     },
     "execution_count": 45,
     "metadata": {},
     "output_type": "execute_result"
    }
   ],
   "source": [
    "'''\n",
    "From the graph we can deduce that the yellow cab is more preferred over all the trips distances , providing wider range of service \n",
    "explains why for trips 50+ the yellow has a significant difference.\n",
    "'''"
   ]
  },
  {
   "cell_type": "code",
   "execution_count": 46,
   "id": "061e661e-32e1-42b8-b58c-39872edd0afc",
   "metadata": {},
   "outputs": [
    {
     "data": {
      "image/png": "[encoded data removed]",
      "text/plain": [
       "<Figure size 432x288 with 1 Axes>"
      ]
     },
     "metadata": {
      "needs_background": "light"
     },
     "output_type": "display_data"
    }
   ],
   "source": [
    "# plotting the bar graph\n",
    "names = list(YellowEarnings.keys())\n",
    "Cvalues = list(YellowEarnings.values())\n",
    "Pvalues = list(PinkEarnings.values())\n",
    "\n",
    "X_axis = np.arange(len(YellowEarnings))\n",
    "\n",
    "plt.bar(X_axis-0.2, Cvalues,0.4, tick_label=names,color = 'yellow')\n",
    "plt.bar(X_axis+0.2, Pvalues,0.4, tick_label=names, color = 'pink')\n",
    "\n",
    "plt.title(\"Profit from trips taken by a certain company\")\n",
    "plt.show()"
   ]
  },
  {
   "cell_type": "code",
   "execution_count": 47,
   "id": "a031cee1-10af-4a58-a9c4-d53e6ba129d5",
   "metadata": {},
   "outputs": [
    {
     "data": {
      "text/plain": [
       "\"\\n    On the other hand the profit the yellow cab got from the trips was the most at 35 km distance although it wasn't the most \\n    requested distance in the previous graph\\n\""
      ]
     },
     "execution_count": 47,
     "metadata": {},
     "output_type": "execute_result"
    }
   ],
   "source": [
    "'''\n",
    "    On the other hand the profit the yellow cab got from the trips was the most at 35 km distance although it wasn't the most \n",
    "    requested distance in the previous graph\n",
    "'''"
   ]
  },
  {
   "cell_type": "code",
   "execution_count": 48,
   "id": "e61f8d88",
   "metadata": {},
   "outputs": [],
   "source": [
    "# '''\n",
    "#     The Sixth Hypothesis:\n",
    "#     Customer Analysis\n",
    "#     sex, age , income\n",
    "#     \n",
    "# '''"
   ]
  },
  {
   "cell_type": "code",
   "execution_count": 49,
   "id": "85d2d997",
   "metadata": {},
   "outputs": [],
   "source": [
    "# firstly according to sex\n",
    "CustomerDataMale = CustomerData[CustomerData['Gender']== 'Male']\n",
    "CustomerDataFemale = CustomerData[CustomerData['Gender']== 'Female']"
   ]
  },
  {
   "cell_type": "code",
   "execution_count": 50,
   "id": "70971ed5-b9a6-49b2-88db-6a7f06805f26",
   "metadata": {},
   "outputs": [],
   "source": [
    "CountMale = CustomerDataMale['Gender'].count()\n",
    "CountFemale = CustomerDataFemale['Gender'].count()"
   ]
  },
  {
   "cell_type": "code",
   "execution_count": 51,
   "id": "15913c9d-a545-4c38-812d-583951d9aa81",
   "metadata": {},
   "outputs": [
    {
     "data": {
      "image/png": "[encoded data removed]",
      "text/plain": [
       "<Figure size 432x288 with 1 Axes>"
      ]
     },
     "metadata": {
      "needs_background": "light"
     },
     "output_type": "display_data"
    }
   ],
   "source": [
    "# plotting the bar graph\n",
    "names = ['Male','Female']\n",
    "values = [CountMale,CountFemale]\n",
    "\n",
    "X_axis = np.arange(len(names))\n",
    "\n",
    "plt.bar(X_axis,values,0.4, tick_label=names)\n",
    "\n",
    "plt.title(\"Male vs Female Cab usage\")\n",
    "plt.show()"
   ]
  },
  {
   "cell_type": "code",
   "execution_count": 52,
   "id": "c3d203e1-3388-415f-a545-a7c5bb869895",
   "metadata": {},
   "outputs": [
    {
     "data": {
      "text/plain": [
       "'\\nFrom analyzing customers data we can see that using Cabs in general is more famous in males than females.\\n\\n'"
      ]
     },
     "execution_count": 52,
     "metadata": {},
     "output_type": "execute_result"
    }
   ],
   "source": [
    "'''\n",
    "From analyzing customers data we can see that using Cabs in general is more famous in males than females.\n",
    "\n",
    "'''"
   ]
  },
  {
   "cell_type": "code",
   "execution_count": 53,
   "id": "576257f5",
   "metadata": {},
   "outputs": [
    {
     "name": "stdout",
     "output_type": "stream",
     "text": [
      "   Customer ID Gender  Age  Income (USD/Month)\n",
      "0        29290   Male   28               10813\n",
      "1        27703   Male   27                9237\n",
      "2        28712   Male   53               11242\n",
      "3        28020   Male   23               23327\n",
      "4        27182   Male   33                8536\n",
      "5        27318   Male   25               13984\n",
      "6        33788   Male   23               23788\n",
      "7        34106   Male   19               19980\n",
      "8        59799   Male   33               19271\n",
      "9        57982   Male   57                5068\n"
     ]
    }
   ],
   "source": [
    "print(CustomerData.head(10))"
   ]
  },
  {
   "cell_type": "code",
   "execution_count": 54,
   "id": "436ca252-ee1d-423c-89e0-cd8b44b74a37",
   "metadata": {},
   "outputs": [
    {
     "name": "stdout",
     "output_type": "stream",
     "text": [
      "The minimum age for customer in platform: 18\n",
      "The maximum age for customer in platform: 65\n"
     ]
    }
   ],
   "source": [
    "# secondly, according to age\n",
    "# find the minimum and maximum ages\n",
    "minAge = CustomerData['Age'].min()\n",
    "print('The minimum age for customer in platform: ' + str(minAge))\n",
    "\n",
    "maxAge = CustomerData['Age'].max()\n",
    "print('The maximum age for customer in platform: ' + str(maxAge))\n",
    "\n"
   ]
  },
  {
   "cell_type": "code",
   "execution_count": 55,
   "id": "0182e613",
   "metadata": {},
   "outputs": [],
   "source": [
    "# lets have 5 age groups\n",
    "# 18-25 , 25-35, 35-45 , 45 - 55 , 55 +\n",
    "AgeGroups = ['18-25' , '25-35', '35-45' , '45 - 55' , '55 +']\n",
    "AgeTrends = {}\n",
    "\n",
    "for age in AgeGroups:\n",
    "    AgeTrends[age] = 0\n",
    "\n",
    "\n"
   ]
  },
  {
   "cell_type": "code",
   "execution_count": 56,
   "id": "2a5e738f",
   "metadata": {},
   "outputs": [],
   "source": [
    "# firstly according to sex\n",
    "AgeGroup1 = CustomerData[(CustomerData['Age'] >= 18) & (CustomerData['Age'] <= 25)]\n",
    "AgeGroup2 = CustomerData[(CustomerData['Age'] >= 25) & (CustomerData['Age'] <= 35)]\n",
    "AgeGroup3 = CustomerData[(CustomerData['Age'] >= 35) & (CustomerData['Age'] <= 45)]\n",
    "AgeGroup4 = CustomerData[(CustomerData['Age'] >= 45) & (CustomerData['Age'] <= 55)]\n",
    "AgeGroup5 = CustomerData[(CustomerData['Age'] >= 55)]\n"
   ]
  },
  {
   "cell_type": "code",
   "execution_count": 57,
   "id": "b5683e0c",
   "metadata": {},
   "outputs": [],
   "source": [
    "AgeTrends[AgeGroups[0]] = AgeGroup1['Age'].count()\n",
    "AgeTrends[AgeGroups[1]] = AgeGroup2['Age'].count()\n",
    "AgeTrends[AgeGroups[2]] = AgeGroup3['Age'].count()\n",
    "AgeTrends[AgeGroups[3]] = AgeGroup4['Age'].count()\n",
    "AgeTrends[AgeGroups[4]] = AgeGroup5['Age'].count()"
   ]
  },
  {
   "cell_type": "code",
   "execution_count": 58,
   "id": "728d4072",
   "metadata": {},
   "outputs": [
    {
     "name": "stdout",
     "output_type": "stream",
     "text": [
      "{'18-25': 12662, '25-35': 17178, '35-45': 11933, '45 - 55': 5824, '55 +': 5729}\n"
     ]
    }
   ],
   "source": [
    "print(AgeTrends)"
   ]
  },
  {
   "cell_type": "code",
   "execution_count": 59,
   "id": "11b51da2",
   "metadata": {},
   "outputs": [
    {
     "data": {
      "image/png": "[encoded data removed]",
      "text/plain": [
       "<Figure size 432x288 with 1 Axes>"
      ]
     },
     "metadata": {
      "needs_background": "light"
     },
     "output_type": "display_data"
    }
   ],
   "source": [
    "# plotting the bar graph\n",
    "names = list(AgeTrends.keys())\n",
    "values = AgeTrends.values()\n",
    "\n",
    "X_axis = np.arange(len(AgeTrends.keys()))\n",
    "\n",
    "plt.bar(X_axis,values,0.4, tick_label=names)\n",
    "\n",
    "plt.title(\"Age Group\")\n",
    "plt.show()"
   ]
  },
  {
   "cell_type": "code",
   "execution_count": 60,
   "id": "63cfa6f2-f9a6-4e37-b6ad-71c1dad2fbc0",
   "metadata": {},
   "outputs": [
    {
     "data": {
      "text/plain": [
       "'\\nWe can see that the age group that requested the most taxis was between 25-35 years old\\n'"
      ]
     },
     "execution_count": 60,
     "metadata": {},
     "output_type": "execute_result"
    }
   ],
   "source": [
    "'''\n",
    "We can see that the age group that requested the most taxis was between 25-35 years old\n",
    "'''"
   ]
  },
  {
   "cell_type": "code",
   "execution_count": 61,
   "id": "af344ab3",
   "metadata": {},
   "outputs": [
    {
     "name": "stdout",
     "output_type": "stream",
     "text": [
      "The minimum age for customer in platform: 2000\n",
      "The maximum age for customer in platform: 35000\n"
     ]
    }
   ],
   "source": [
    "# Thirdly, According to income\n",
    "minIncome = CustomerData['Income (USD/Month)'].min()\n",
    "print('The minimum age for customer in platform: ' + str(minIncome))\n",
    "\n",
    "maxIncome = CustomerData['Income (USD/Month)'].max()\n",
    "print('The maximum age for customer in platform: ' + str(maxIncome))"
   ]
  },
  {
   "cell_type": "code",
   "execution_count": 62,
   "id": "4b5c479f-0508-4930-ba16-1ebdf8c5cf44",
   "metadata": {},
   "outputs": [],
   "source": [
    "# lets have 5 income groups\n",
    "# 18-25 , 25-35, 35-45 , 45 - 55 , 55 +\n",
    "IncomeGroups = ['0-10K' , '10K-15K', '15K-20K' , '20K - 25K' , '25K +']\n",
    "IncomeTrends = {}\n",
    "\n",
    "for Income in IncomeGroups:\n",
    "    IncomeTrends[Income] = 0\n"
   ]
  },
  {
   "cell_type": "code",
   "execution_count": 63,
   "id": "508c275d",
   "metadata": {},
   "outputs": [],
   "source": [
    "IncomeGroup1 = CustomerData[(CustomerData['Income (USD/Month)'] <= 10000)]\n",
    "IncomeGroup2 = CustomerData[(CustomerData['Income (USD/Month)'] > 10000) & (CustomerData['Income (USD/Month)'] <= 15000)]\n",
    "IncomeGroup3 = CustomerData[(CustomerData['Income (USD/Month)'] > 15000) & (CustomerData['Income (USD/Month)'] <= 20000)]\n",
    "IncomeGroup4 = CustomerData[(CustomerData['Income (USD/Month)'] > 20000) & (CustomerData['Income (USD/Month)'] <= 25000)]\n",
    "IncomeGroup5 = CustomerData[(CustomerData['Income (USD/Month)'] > 25000)]\n"
   ]
  },
  {
   "cell_type": "code",
   "execution_count": 64,
   "id": "7e34da8c",
   "metadata": {},
   "outputs": [],
   "source": [
    "IncomeTrends[IncomeGroups[0]] = IncomeGroup1['Income (USD/Month)'].count()\n",
    "IncomeTrends[IncomeGroups[1]] = IncomeGroup2['Income (USD/Month)'].count()\n",
    "IncomeTrends[IncomeGroups[2]] = IncomeGroup3['Income (USD/Month)'].count()\n",
    "IncomeTrends[IncomeGroups[3]] = IncomeGroup4['Income (USD/Month)'].count()\n",
    "IncomeTrends[IncomeGroups[4]] = IncomeGroup5['Income (USD/Month)'].count()"
   ]
  },
  {
   "cell_type": "code",
   "execution_count": 65,
   "id": "4bb9c281",
   "metadata": {},
   "outputs": [
    {
     "name": "stdout",
     "output_type": "stream",
     "text": [
      "{'0-10K': 15645, '10K-15K': 9591, '15K-20K': 9650, '20K - 25K': 9769, '25K +': 4516}\n"
     ]
    }
   ],
   "source": [
    "print(IncomeTrends)"
   ]
  },
  {
   "cell_type": "code",
   "execution_count": 66,
   "id": "0b9523bc",
   "metadata": {},
   "outputs": [
    {
     "data": {
      "image/png": "[encoded data removed]",
      "text/plain": [
       "<Figure size 432x288 with 1 Axes>"
      ]
     },
     "metadata": {
      "needs_background": "light"
     },
     "output_type": "display_data"
    }
   ],
   "source": [
    "# plotting the bar graph\n",
    "names = list(IncomeTrends.keys())\n",
    "values = IncomeTrends.values()\n",
    "\n",
    "X_axis = np.arange(len(IncomeTrends.keys()))\n",
    "\n",
    "plt.bar(X_axis,values,0.4, tick_label=names)\n",
    "\n",
    "plt.title(\"Income Group\")\n",
    "plt.show()"
   ]
  },
  {
   "cell_type": "code",
   "execution_count": 67,
   "id": "e5e0eb5a-d189-40ee-a217-8d7644cd89e3",
   "metadata": {},
   "outputs": [
    {
     "data": {
      "text/plain": [
       "'\\n    Low income citizes are the ones who ordered cabs the most\\n'"
      ]
     },
     "execution_count": 67,
     "metadata": {},
     "output_type": "execute_result"
    }
   ],
   "source": [
    "'''\n",
    "    Low income citizes are the ones who ordered cabs the most\n",
    "'''"
   ]
  },
  {
   "cell_type": "code",
   "execution_count": 68,
   "id": "7c707594-495f-493d-9b8c-ba2eb83f1aef",
   "metadata": {},
   "outputs": [
    {
     "name": "stdout",
     "output_type": "stream",
     "text": [
      "   Transaction ID  Customer ID Payment_Mode\n",
      "0        10000011        29290         Card\n",
      "1        10000012        27703         Card\n",
      "2        10000013        28712         Cash\n",
      "3        10000014        28020         Cash\n",
      "4        10000015        27182         Card\n",
      "5        10000016        27318         Cash\n",
      "6        10000017        33788         Card\n",
      "7        10000018        34106         Card\n",
      "8        10000019        59799         Cash\n",
      "9        10000020        57982         Cash\n"
     ]
    }
   ],
   "source": [
    "# Cash vs Card Payment ( Card payment is usually easier and safer)\n",
    "print(TransactionData.head(10))"
   ]
  },
  {
   "cell_type": "code",
   "execution_count": 69,
   "id": "d33b6302-ced8-4445-97c9-5c7ac5951a4d",
   "metadata": {},
   "outputs": [],
   "source": [
    "CardPayments = TransactionData[TransactionData['Payment_Mode'] == 'Card']\n",
    "CashPayments = TransactionData[TransactionData['Payment_Mode'] == 'Cash']\n"
   ]
  },
  {
   "cell_type": "code",
   "execution_count": 70,
   "id": "4e6612ec-6054-418f-bebb-7776b1038160",
   "metadata": {},
   "outputs": [
    {
     "name": "stdout",
     "output_type": "stream",
     "text": [
      "{'Card': 263991, 'Cash': 176107}\n"
     ]
    }
   ],
   "source": [
    "count= {\"Card\" :CardPayments['Payment_Mode'].count(),\"Cash\" :CashPayments['Payment_Mode'].count()}\n",
    "print(count)"
   ]
  },
  {
   "cell_type": "code",
   "execution_count": 71,
   "id": "f8a1caff-5d07-48f1-b91f-d91db4601cf3",
   "metadata": {},
   "outputs": [
    {
     "data": {
      "image/png": "[encoded data removed]",
      "text/plain": [
       "<Figure size 432x288 with 1 Axes>"
      ]
     },
     "metadata": {
      "needs_background": "light"
     },
     "output_type": "display_data"
    }
   ],
   "source": [
    "# plotting the bar graph\n",
    "names = list(count.keys())\n",
    "values = count.values()\n",
    "\n",
    "X_axis = np.arange(len(count.keys()))\n",
    "\n",
    "plt.bar(X_axis,values,0.4, tick_label=names)\n",
    "\n",
    "plt.title(\"Cash vs Card Payment\")\n",
    "plt.show()"
   ]
  },
  {
   "cell_type": "code",
   "execution_count": 72,
   "id": "ee82df37-d976-4ed4-a7b6-824948fe913e",
   "metadata": {},
   "outputs": [
    {
     "data": {
      "text/plain": [
       "'\\n    Since cards provide a safe option to pay , customers in general prefer paying using CARD rather than cash.\\n'"
      ]
     },
     "execution_count": 72,
     "metadata": {},
     "output_type": "execute_result"
    }
   ],
   "source": [
    "'''\n",
    "    Since cards provide a safe option to pay , customers in general prefer paying using CARD rather than cash.\n",
    "'''"
   ]
  },
  {
   "cell_type": "code",
   "execution_count": 73,
   "id": "597aa4f7-40e5-4fc3-82a5-9fb12a5730d7",
   "metadata": {},
   "outputs": [
    {
     "data": {
      "text/plain": [
       "'\\n\\n    After analying all the results above, the yellow cab has higher reach, more profit and is requested more than the pink cab\\n    thus I recommand the yellow cab for investment.\\n'"
      ]
     },
     "execution_count": 73,
     "metadata": {},
     "output_type": "execute_result"
    }
   ],
   "source": [
    "'''\n",
    "\n",
    "    After analying all the results above, the yellow cab has higher reach, more profit and is requested more than the pink cab\n",
    "    thus I recommand the yellow cab for investment.\n",
    "'''"
   ]
  }
 ],
 "metadata": {
  "kernelspec": {
   "display_name": "Python 3 (ipykernel)",
   "language": "python",
   "name": "python3"
  },
  "language_info": {
   "codemirror_mode": {
    "name": "ipython",
    "version": 3
   },
   "file_extension": ".py",
   "mimetype": "text/x-python",
   "name": "python",
   "nbconvert_exporter": "python",
   "pygments_lexer": "ipython3",
   "version": "3.9.6"
  }
 },
 "nbformat": 4,
 "nbformat_minor": 5
}
